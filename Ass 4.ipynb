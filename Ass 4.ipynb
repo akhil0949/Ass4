{
 "cells": [
  {
   "cell_type": "code",
   "execution_count": null,
   "id": "f7a331f4",
   "metadata": {},
   "outputs": [],
   "source": [
    "1. What exactly is []?\n",
    "Ans)\n",
    "a list of elements can be stored in []."
   ]
  },
  {
   "cell_type": "code",
   "execution_count": null,
   "id": "79b92c6c",
   "metadata": {},
   "outputs": [],
   "source": [
    "2. In a list of values stored in a variable called spam, how would you assign the value 'hello' as the\n",
    "third value? (Assume [2, 4, 6, 8, 10] are in spam.)\n",
    "Ans)\n",
    "spam = [2, 4, 6, 8, 10]\n",
    "spam[3] = \"hello\"\n",
    "print(spam)\n"
   ]
  },
  {
   "cell_type": "code",
   "execution_count": null,
   "id": "e98b9d94",
   "metadata": {},
   "outputs": [],
   "source": [
    "spam = ['a','b','c','d']\n",
    "3. What is the value of spam[int(int('3'*2) / 11)]?\n",
    "Ans)\n",
    "'d'\n"
   ]
  },
  {
   "cell_type": "code",
   "execution_count": null,
   "id": "d16fbcf9",
   "metadata": {},
   "outputs": [],
   "source": [
    "spam = ['a','b','c','d']\n",
    "4. What is the value of spam[-1]?\n",
    "Ans)\n",
    "'d'"
   ]
  },
  {
   "cell_type": "code",
   "execution_count": null,
   "id": "5b9c916b",
   "metadata": {},
   "outputs": [],
   "source": [
    "spam = ['a','b','c','d']\n",
    "5. What is the value of spam[:2]?\n",
    "Ans)\n",
    "'a','b'"
   ]
  },
  {
   "cell_type": "code",
   "execution_count": null,
   "id": "fcd700d5",
   "metadata": {},
   "outputs": [],
   "source": [
    "bacon = [3.14,'cat',11,'cat',True]\n",
    "6. What is the value of bacon.index('cat')\n",
    "Ans)\n",
    "1\n"
   ]
  },
  {
   "cell_type": "code",
   "execution_count": null,
   "id": "4b76bfe3",
   "metadata": {},
   "outputs": [],
   "source": [
    "bacon = [3.14,'cat',11,'cat',True]\n",
    "7. How does bacon.append(99) change the look of the list value in bacon?\n",
    "Ans)\n",
    "[3.14,'cat',11,'cat',True,99]"
   ]
  },
  {
   "cell_type": "code",
   "execution_count": null,
   "id": "170cfff6",
   "metadata": {},
   "outputs": [],
   "source": [
    "bacon = [3.14,'cat',11,'cat',True]\n",
    "8. How does bacon.remove('cat') change the look of the list in bacon?\n",
    "Ans)\n",
    "[3.14, 11, 'cat', True]"
   ]
  },
  {
   "cell_type": "code",
   "execution_count": null,
   "id": "2cbb780a",
   "metadata": {},
   "outputs": [],
   "source": [
    "9. What are the list concatenation and list replication operators?\n",
    "Ans)\n",
    "list concatenation will perform addition operation between two lists.\n",
    "The * operator replicates the elements in the list."
   ]
  },
  {
   "cell_type": "code",
   "execution_count": null,
   "id": "447f927a",
   "metadata": {},
   "outputs": [],
   "source": [
    "10. What is difference between the list methods append() and insert()?\n",
    "Ans)\n",
    "append() adds the element to the list on the last index.\n",
    "insert() adds the specific element to the specific index  in the list."
   ]
  },
  {
   "cell_type": "code",
   "execution_count": null,
   "id": "aec8aef7",
   "metadata": {},
   "outputs": [],
   "source": [
    "11. What are the two methods for removing items from a list?\n",
    "Ans)\n",
    "pop()\n",
    "remove()\n",
    "del()"
   ]
  },
  {
   "cell_type": "code",
   "execution_count": null,
   "id": "7e05d46c",
   "metadata": {},
   "outputs": [],
   "source": [
    "12. Describe how list values and string values are identical.\n",
    "Ans)\n",
    "lists are similar to strings, which are ordered collections of characters, \n",
    "except that the elements of a list can have any type and for any one list, the items can be of different types."
   ]
  },
  {
   "cell_type": "code",
   "execution_count": null,
   "id": "b4525abd",
   "metadata": {},
   "outputs": [],
   "source": [
    "13. Whats the difference between tuples and lists?\n",
    "Ans)\n",
    "tuple are represented in ()\n",
    "lists are represented in []"
   ]
  },
  {
   "cell_type": "code",
   "execution_count": null,
   "id": "32f35f44",
   "metadata": {},
   "outputs": [],
   "source": [
    "14. How do you type a tuple value that only contains the integer 42?\n",
    "Ans)\n",
    "(42,)"
   ]
  },
  {
   "cell_type": "code",
   "execution_count": null,
   "id": "db8639da",
   "metadata": {},
   "outputs": [],
   "source": [
    "15. How do you get a list values tuple form? How do you get a tuple values list form?\n",
    "Ans)\n",
    "tuple(list)\n",
    "list(tupple)"
   ]
  },
  {
   "cell_type": "code",
   "execution_count": null,
   "id": "5b19ccfa",
   "metadata": {},
   "outputs": [],
   "source": [
    "16. Variables that contains list values are not necessarily lists themselves. Instead, what do they\n",
    "contain?\n",
    "Ans)\n",
    "intergers, strings, complex numbers etc\n"
   ]
  },
  {
   "cell_type": "code",
   "execution_count": null,
   "id": "18cad898",
   "metadata": {},
   "outputs": [],
   "source": [
    "17. How do you distinguish between copy.copy() and copy.deepcopy()?\n",
    "Ans)\n",
    "copy.copy() - constructs a new compound object and then inserts references into it to the objects\n",
    "copy.deepcopy() - constructs a new compound object and then inserts copies into it of the objects"
   ]
  }
 ],
 "metadata": {
  "kernelspec": {
   "display_name": "Python 3",
   "language": "python",
   "name": "python3"
  },
  "language_info": {
   "codemirror_mode": {
    "name": "ipython",
    "version": 3
   },
   "file_extension": ".py",
   "mimetype": "text/x-python",
   "name": "python",
   "nbconvert_exporter": "python",
   "pygments_lexer": "ipython3",
   "version": "3.6.13"
  }
 },
 "nbformat": 4,
 "nbformat_minor": 5
}
